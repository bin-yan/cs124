{
 "cells": [
  {
   "cell_type": "code",
   "execution_count": 30,
   "metadata": {
    "collapsed": false
   },
   "outputs": [],
   "source": [
    "import numpy as np\n",
    "import pandas as pd\n",
    "\n",
    "d = 29\n",
    "a = pd.Series(np.random.randint(0,3,2 * d**2))\n",
    "#a.to_csv(\"/Users/binyan/desktop/test\" + str(d) + \".txt\", header=None, index=None)\n",
    "# Laptop\n",
    "\n",
    "a.to_csv(\"/Users/byan/Desktop/test\" + str(d) + \".txt\", header=None, index=None)\n",
    "# Desktop"
   ]
  },
  {
   "cell_type": "code",
   "execution_count": 28,
   "metadata": {
    "collapsed": false
   },
   "outputs": [
    {
     "name": "stdout",
     "output_type": "stream",
     "text": [
      "16.0\n",
      "13.0\n",
      "18.0\n",
      "20.0\n",
      "18.0\n",
      "9.0\n",
      "7.0\n",
      "22.0\n",
      "14.0\n",
      "9.0\n",
      "21.0\n",
      "19.0\n",
      "13.0\n",
      "11.0\n",
      "25.0\n",
      "21.0\n"
     ]
    }
   ],
   "source": [
    "A = np.zeros((d,d))\n",
    "B = np.zeros((d,d))\n",
    "k = 0\n",
    "\n",
    "for i in range(d):\n",
    "    for j in range(d):\n",
    "        A.itemset((i, j),a[k])\n",
    "        k=k+1\n",
    "        \n",
    "for i in range(d):\n",
    "    for j in range(d):\n",
    "        B.itemset((i, j),a[k])\n",
    "        k=k+1\n",
    "        \n",
    "C = np.dot(A,B)\n",
    "\n",
    "for i in range(d): \n",
    "    print(C.item((i,i)))"
   ]
  }
 ],
 "metadata": {
  "kernelspec": {
   "display_name": "Python 3",
   "language": "python",
   "name": "python3"
  },
  "language_info": {
   "codemirror_mode": {
    "name": "ipython",
    "version": 3
   },
   "file_extension": ".py",
   "mimetype": "text/x-python",
   "name": "python",
   "nbconvert_exporter": "python",
   "pygments_lexer": "ipython3",
   "version": "3.4.3"
  }
 },
 "nbformat": 4,
 "nbformat_minor": 0
}
